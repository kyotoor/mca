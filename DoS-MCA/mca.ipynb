{
 "cells": [
  {
   "cell_type": "code",
   "execution_count": 1,
   "id": "5e5617f7",
   "metadata": {},
   "outputs": [],
   "source": [
    "import numpy as np\n",
    "import pandas as pd\n",
    "import cv2\n",
    "import matplotlib.pyplot as plt"
   ]
  },
  {
   "cell_type": "code",
   "execution_count": 2,
   "id": "0ff3a82f",
   "metadata": {},
   "outputs": [
    {
     "name": "stdout",
     "output_type": "stream",
     "text": [
      "train_data shape : (494020, 42)\n"
     ]
    }
   ],
   "source": [
    "# Use the 10% of dataset\n",
    "data_path = './data/'\n",
    "train_data = pd.read_csv(data_path + 'kddcup.data_10_percent')\n",
    "train_data = train_data.to_numpy()\n",
    "print(\"train_data shape :\" , train_data.shape)"
   ]
  },
  {
   "cell_type": "code",
   "execution_count": 3,
   "id": "2bf612cf",
   "metadata": {},
   "outputs": [
    {
     "name": "stdout",
     "output_type": "stream",
     "text": [
      "amount of normal data : 97277\n"
     ]
    }
   ],
   "source": [
    "# count the amount of normal(benign) traffic\n",
    "count = 0\n",
    "for i in range(0, train_data.shape[0], 1):\n",
    "    if train_data[i, 41] == \"normal.\":\n",
    "        count = count + 1\n",
    "print('amount of normal data :', count)"
   ]
  },
  {
   "cell_type": "code",
   "execution_count": 4,
   "id": "285cb4b1",
   "metadata": {},
   "outputs": [
    {
     "name": "stdout",
     "output_type": "stream",
     "text": [
      "train_data shape (normal only) : (97277, 42)\n"
     ]
    }
   ],
   "source": [
    "# pick the normal (benign) traffic\n",
    "train_data_normal = train_data[0:count, :].copy()\n",
    "index = 0\n",
    "for i in range(0, train_data.shape[0], 1):\n",
    "    if train_data[i, 41] == \"normal.\":\n",
    "        train_data_normal[index, :] = train_data[i, :].copy()\n",
    "        index = index + 1\n",
    "print(\"train_data shape (normal only) :\", train_data_normal.shape)"
   ]
  },
  {
   "cell_type": "code",
   "execution_count": 5,
   "id": "99256f63",
   "metadata": {},
   "outputs": [
    {
     "name": "stdout",
     "output_type": "stream",
     "text": [
      "Reshaped :  (97277, 32)\n"
     ]
    }
   ],
   "source": [
    "# pick the continuous features\n",
    "train_data_normal_reshaped = np.delete(train_data_normal, [1, 2, 3, 4, 5, 6, 11, 20, 21, 41], axis = 1)\n",
    "print(\"Reshaped : \", train_data_normal_reshaped.shape)\n",
    "\n",
    "# Room to improve and fix...\n",
    "# Cannot understand which 32 features should I select\n",
    "# In the paper \"the TAMs of the different types of traffic records are generated using 32 continuous features.\"\"\n",
    "# Refer this \"https://www.kaggle.com/datasets/galaxyh/kdd-cup-1999-data?select=kddcup.names\", "
   ]
  },
  {
   "cell_type": "code",
   "execution_count": 6,
   "id": "5833dc8d",
   "metadata": {},
   "outputs": [
    {
     "name": "stdout",
     "output_type": "stream",
     "text": [
      "amount of samples : 9727\n",
      "TAM shape: (9727, 32, 32)\n"
     ]
    }
   ],
   "source": [
    "# Triangle-MCA\n",
    "# if j = k, it will be 0. Other place will be the area of triangle.\n",
    "length = train_data_normal_reshaped.shape[1]\n",
    "amount = int(count/10)\n",
    "print(\"amount of samples :\", amount)\n",
    "\n",
    "tam = np.zeros((amount, length, length),  \"float32\")\n",
    "print(\"TAM shape:\", tam.shape)\n",
    "for i in range(0, amount, 1):\n",
    "    for j in range(0, length, 1):\n",
    "        for k in range(0, length, 1):\n",
    "            if j == k:\n",
    "                tam[i, j, k] = 0. \n",
    "            else:\n",
    "                tam[i, j, k] = float(train_data_normal_reshaped[i, j]) * float(train_data_normal_reshaped[i, k]) / 2"
   ]
  },
  {
   "cell_type": "code",
   "execution_count": 9,
   "id": "dec1c4ae",
   "metadata": {},
   "outputs": [
    {
     "name": "stdout",
     "output_type": "stream",
     "text": [
      "average of TAM : (32, 32)\n",
      "coordinate : (496, 2)\n",
      "Cov shape : (496, 496)\n"
     ]
    }
   ],
   "source": [
    "# calc Covarianceof TAM using lower TAM.\n",
    "ave_tam = np.average(tam, axis = 0)\n",
    "print('average of TAM :', ave_tam.shape)\n",
    "cov_length = int(1/2 * (1 + (length - 1)) * (length - 1))\n",
    "sum_tam = np.zeros((cov_length, cov_length), \"float32\") \n",
    "\n",
    "# Cartesian coordinate\n",
    "coordinate = np.zeros((cov_length, 2), \"int32\")\n",
    "print(\"coordinate :\", coordinate.shape)\n",
    "index = 0\n",
    "for j in range(1, length, 1):\n",
    "    for k in range(j, length, 1):\n",
    "        coordinate[index] = np.array([k, j-1])\n",
    "        index = index + 1\n",
    "        \n",
    "for i in range(0, 1, 1):\n",
    "    for j in range(0, cov_length, 1):\n",
    "        for k in range(0, cov_length, 1):\n",
    "            sum_tam[j, k] = sum_tam[j, k] + ((tam[i, coordinate[j][0], coordinate[j][1]] - ave_tam[coordinate[j][0], coordinate[j][1]]) * (tam[i, coordinate[k][0], coordinate[k][1]] - ave_tam[coordinate[k][0], coordinate[k][1]]))\n",
    "\n",
    "cov = sum_tam * (1 / (amount - 1))\n",
    "print('Cov shape :', cov.shape)"
   ]
  },
  {
   "cell_type": "code",
   "execution_count": null,
   "id": "e865a0ab",
   "metadata": {},
   "outputs": [],
   "source": [
    "# Mahalanobis distance (MD) for each elements\n",
    "# input (32,) → TAM (32, 32) compare with average TAM (32, 32)\n",
    "md = 0\n",
    "for i in range(0, amount, 1):\n",
    "    md = md + ()"
   ]
  },
  {
   "cell_type": "code",
   "execution_count": 8,
   "id": "dba1b69f",
   "metadata": {},
   "outputs": [
    {
     "data": {
      "image/png": "[encoded data removed]",
      "text/plain": [
       "<Figure size 800x600 with 12 Axes>"
      ]
     },
     "metadata": {},
     "output_type": "display_data"
    }
   ],
   "source": [
    "# visualize the TAM\n",
    "n_data = 12\n",
    "row = 2\n",
    "col = 6\n",
    "fig, ax = plt.subplots(nrows=row, ncols=col,figsize=(8,6))\n",
    "\n",
    "for i, img in enumerate(tam[:n_data]):\n",
    "    _r = i // col\n",
    "    _c = i % col\n",
    "    ax[_r,_c].axes.xaxis.set_visible(False) \n",
    "    ax[_r,_c].axes.yaxis.set_visible(False)\n",
    "    ax[_r,_c].imshow(tam[i], cmap='gray') # 画像を表示"
   ]
  }
 ],
 "metadata": {
  "kernelspec": {
   "display_name": "Python 3 (ipykernel)",
   "language": "python",
   "name": "python3"
  },
  "language_info": {
   "codemirror_mode": {
    "name": "ipython",
    "version": 3
   },
   "file_extension": ".py",
   "mimetype": "text/x-python",
   "name": "python",
   "nbconvert_exporter": "python",
   "pygments_lexer": "ipython3",
   "version": "3.9.12"
  }
 },
 "nbformat": 4,
 "nbformat_minor": 5
}
